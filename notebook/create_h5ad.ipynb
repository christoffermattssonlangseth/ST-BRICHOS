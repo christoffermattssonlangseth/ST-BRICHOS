{
 "cells": [
  {
   "cell_type": "code",
   "execution_count": 30,
   "id": "3813b266-0d06-4149-8b25-e3f7ccb60f11",
   "metadata": {},
   "outputs": [],
   "source": [
    "import os\n",
    "import scanpy as sc\n",
    "import pandas as pd\n",
    "import json\n",
    "from PIL import Image\n",
    "import numpy as np\n",
    "\n",
    "def process_sample(sample_path):\n",
    "    try:\n",
    "        sample_name = os.path.basename(sample_path)\n",
    "        matrix_dir = os.path.join(sample_path, \"outs\", \"filtered_feature_bc_matrix\")\n",
    "        spatial_dir = os.path.join(sample_path, \"outs\", \"spatial\")\n",
    "\n",
    "        # Read expression matrix\n",
    "        adata = sc.read_10x_mtx(matrix_dir, var_names=\"gene_symbols\", make_unique=True)\n",
    "\n",
    "        # Find tissue position file\n",
    "        for filename in [\"tissue_positions.csv\", \"tissue_positions_list.csv\"]:\n",
    "            positions_path = os.path.join(spatial_dir, filename)\n",
    "            if os.path.exists(positions_path):\n",
    "                break\n",
    "        else:\n",
    "            raise FileNotFoundError(\"No tissue position file found.\")\n",
    "\n",
    "        # Load tissue positions\n",
    "        positions = pd.read_csv(positions_path, header=None)\n",
    "        positions.columns = [\n",
    "            \"barcode\", \"in_tissue\", \"array_row\", \"array_col\", \"pxl_row_in_fullres\", \"pxl_col_in_fullres\"\n",
    "        ]\n",
    "        positions = positions.dropna(subset=[\"barcode\"])  # drop incomplete rows\n",
    "        positions.set_index(\"barcode\", inplace=True)\n",
    "        adata.obs = adata.obs.join(positions, how=\"left\")\n",
    "\n",
    "        # Add spatial coordinates to .obsm\n",
    "        adata.obsm[\"spatial\"] = adata.obs[[\"pxl_row_in_fullres\", \"pxl_col_in_fullres\"]].to_numpy()\n",
    "\n",
    "        # Add scale factors\n",
    "        with open(os.path.join(spatial_dir, \"scalefactors_json.json\")) as f:\n",
    "            scalefactors = json.load(f)\n",
    "\n",
    "        # Add image if available\n",
    "        image_path = os.path.join(spatial_dir, \"tissue_hires_image.png\")\n",
    "        if os.path.exists(image_path):\n",
    "            img = Image.open(image_path)\n",
    "            img = np.array(img)\n",
    "\n",
    "            adata.uns[\"spatial\"] = {\n",
    "                sample_name: {\n",
    "                    \"images\": {\"hires\": img},\n",
    "                    \"scalefactors\": scalefactors,\n",
    "                    \"metadata\": {\"chemistry_description\": \"Unknown\"}\n",
    "                }\n",
    "            }\n",
    "        else:\n",
    "            print(f\"⚠️ No image found for {sample_name}\")\n",
    "            adata.uns[\"spatial\"] = {\n",
    "                sample_name: {\n",
    "                    \"images\": {},\n",
    "                    \"scalefactors\": scalefactors,\n",
    "                    \"metadata\": {\"chemistry_description\": \"Unknown\"}\n",
    "                }\n",
    "            }\n",
    "\n",
    "        # Save to h5ad\n",
    "        out_file = os.path.join(output_dir, f\"{sample_name}.h5ad\")\n",
    "        adata.write(out_file)\n",
    "        print(f\"✅ Saved {out_file}\")\n",
    "\n",
    "    except Exception as e:\n",
    "        print(f\"❌ Failed to process {sample_path}: {e}\")"
   ]
  },
  {
   "cell_type": "code",
   "execution_count": 31,
   "id": "eadd4dca-748a-443a-a079-7e626a4f6a32",
   "metadata": {},
   "outputs": [
    {
     "name": "stdout",
     "output_type": "stream",
     "text": [
      "✅ Saved /Users/christoffer/work/karolinska/development/ST_BRICHOS/results/P24215_301.h5ad\n",
      "✅ Saved /Users/christoffer/work/karolinska/development/ST_BRICHOS/results/P24215_201.h5ad\n",
      "✅ Saved /Users/christoffer/work/karolinska/development/ST_BRICHOS/results/P24215_101.h5ad\n",
      "✅ Saved /Users/christoffer/work/karolinska/development/ST_BRICHOS/results/P28052_201.h5ad\n",
      "✅ Saved /Users/christoffer/work/karolinska/development/ST_BRICHOS/results/P28052_202.h5ad\n",
      "✅ Saved /Users/christoffer/work/karolinska/development/ST_BRICHOS/results/P28052_203.h5ad\n",
      "✅ Saved /Users/christoffer/work/karolinska/development/ST_BRICHOS/results/P28052_401.h5ad\n",
      "✅ Saved /Users/christoffer/work/karolinska/development/ST_BRICHOS/results/P28052_102.h5ad\n",
      "✅ Saved /Users/christoffer/work/karolinska/development/ST_BRICHOS/results/P28052_301.h5ad\n",
      "✅ Saved /Users/christoffer/work/karolinska/development/ST_BRICHOS/results/P28052_103.h5ad\n"
     ]
    }
   ],
   "source": [
    "# Loop through all folders\n",
    "for base_dir in input_dirs:\n",
    "    for sample_name in os.listdir(base_dir):\n",
    "        sample_path = os.path.join(base_dir, sample_name)\n",
    "        if os.path.isdir(sample_path) and os.path.exists(os.path.join(sample_path, \"outs\",\"filtered_feature_bc_matrix\")):\n",
    "            process_sample(sample_path)"
   ]
  },
  {
   "cell_type": "code",
   "execution_count": null,
   "id": "fdb2052e-e982-4e1d-ac3e-7b13818b1f40",
   "metadata": {},
   "outputs": [],
   "source": []
  }
 ],
 "metadata": {
  "kernelspec": {
   "display_name": "sc",
   "language": "python",
   "name": "sc"
  },
  "language_info": {
   "codemirror_mode": {
    "name": "ipython",
    "version": 3
   },
   "file_extension": ".py",
   "mimetype": "text/x-python",
   "name": "python",
   "nbconvert_exporter": "python",
   "pygments_lexer": "ipython3",
   "version": "3.8.20"
  }
 },
 "nbformat": 4,
 "nbformat_minor": 5
}
