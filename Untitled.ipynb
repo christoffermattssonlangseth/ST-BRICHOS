{
 "cells": [
  {
   "cell_type": "code",
   "execution_count": null,
   "id": "a773e46f-9c8b-4c73-a73c-1aa587e2323f",
   "metadata": {},
   "outputs": [],
   "source": [
    "import os\n",
    "import scanpy as sc\n",
    "import anndata as ad\n",
    "\n",
    "# Folder containing all .h5ad files\n",
    "results_folder = \"/Users/christoffer/work/karolinska/development/ST_BRICHOS/results\"\n",
    "output_folder = '/Users/christoffer/work/karolinska/development/ST_BRICHOS'\n",
    "# Find all .h5ad files in the folder\n",
    "h5ad_files = [os.path.join(results_folder, f) for f in os.listdir(results_folder) if f.endswith(\".h5ad\")]\n",
    "\n",
    "# Read and store each AnnData object, adding sample name as metadata\n",
    "adatas = []\n",
    "spatial_dict = {}\n",
    "\n",
    "for file in h5ad_files:\n",
    "    sample_name = os.path.basename(file).replace(\".h5ad\", \"\")\n",
    "    adata = sc.read_h5ad(file)\n",
    "    adata.obs[\"sample\"] = sample_name  # Tag with sample ID\n",
    "    adatas.append(adata)\n",
    "\n",
    "    # Extract spatial info for this sample, if it exists\n",
    "    if \"spatial\" in adata.uns and sample_name in adata.uns[\"spatial\"]:\n",
    "        spatial_dict[sample_name] = adata.uns[\"spatial\"][sample_name]\n",
    "\n",
    "# Concatenate across samples\n",
    "adata_combined = ad.concat(\n",
    "    adatas,\n",
    "    join=\"outer\",\n",
    "    label=\"sample_id\",\n",
    "    keys=[a.obs[\"sample\"][0] for a in adatas],\n",
    "    index_unique=\"-\"\n",
    ")\n",
    "\n",
    "# Add combined spatial info\n",
    "adata_combined.uns[\"spatial\"] = spatial_dict\n",
    "\n",
    "for col in [\"array_row\", \"array_col\", \"pxl_row_in_fullres\", \"pxl_col_in_fullres\", \"in_tissue\"]:\n",
    "    adata_combined.obs[col] = pd.to_numeric(\n",
    "        adata_combined.obs[col], errors=\"coerce\"\n",
    "    ).astype(\"Int64\")\n",
    "    \n",
    "del adata_combined.obs['in_tissue']\n",
    "adata_combined.obsm['spatial'] = np.array(adata_combined.obs[['array_row','array_col']].astype(int))\n",
    "\n",
    "# Save the merged object\n",
    "combined_path = os.path.join(output_folder, \"combined_samples.h5ad\")\n",
    "adata_combined.write(combined_path)\n",
    "print(f\"✅ Combined AnnData written to {combined_path}\")"
   ]
  },
  {
   "cell_type": "code",
   "execution_count": null,
   "id": "d0a3a1b1-973d-494d-83e4-26fa64691fb1",
   "metadata": {},
   "outputs": [],
   "source": [
    "adata = sc.read_h5ad('/Users/christoffer/work/karolinska/development/ST_BRICHOS/combined_samples.h5ad')"
   ]
  },
  {
   "cell_type": "code",
   "execution_count": null,
   "id": "8e59c76e-c8b2-4a36-9445-46240555317e",
   "metadata": {},
   "outputs": [],
   "source": [
    "adata.obs"
   ]
  },
  {
   "cell_type": "code",
   "execution_count": null,
   "id": "f6544a68-47cc-4d6f-bc12-8e4e8106b8ca",
   "metadata": {},
   "outputs": [],
   "source": [
    "import matplotlib.pyplot as plt"
   ]
  },
  {
   "cell_type": "code",
   "execution_count": null,
   "id": "8c187ab1-fce6-4bac-afbf-6119ef45f303",
   "metadata": {},
   "outputs": [],
   "source": [
    "def harmonize_spatial_metadata(adata):\n",
    "    \"\"\"\n",
    "    Adapt .uns['spatial'] for a multi-sample concatenated AnnData object.\n",
    "    Moves per-sample spatial info into separate entries and restores one\n",
    "    consistent .uns['spatial'] entry (for plotting, e.g., with Squidpy).\n",
    "    \"\"\"\n",
    "    if \"spatial\" not in adata.uns:\n",
    "        print(\"⚠️  No 'spatial' key found in .uns — skipping\")\n",
    "        return\n",
    "\n",
    "    spatial_meta = adata.uns.pop(\"spatial\")\n",
    "\n",
    "    # Store full metadata elsewhere if needed later\n",
    "    adata.uns[\"spatial_metadata_per_sample\"] = spatial_meta\n",
    "\n",
    "    sample_ids = adata.obs[\"sample\"].unique()\n",
    "    adata.uns[\"spatial\"] = {}\n",
    "\n",
    "    for sample_id in sample_ids:\n",
    "        print(f\"🛠️  Assigning spatial metadata for: {sample_id}\")\n",
    "\n",
    "        # Subset for this sample\n",
    "        idx = adata.obs[\"sample\"] == sample_id\n",
    "\n",
    "        # Create a dummy per-sample AnnData with correct shape to attach per-sample obsm\n",
    "        adata_sample = adata[idx].copy()\n",
    "\n",
    "        # Some SpaceRanger data store spot coordinates in .obsm\n",
    "        # Here we reconstruct it from obs if needed\n",
    "        if \"pxl_row_in_fullres\" in adata_sample.obs.columns and \"pxl_col_in_fullres\" in adata_sample.obs.columns:\n",
    "            adata_sample.obsm[\"spatial\"] = adata_sample.obs[[\"pxl_row_in_fullres\", \"pxl_col_in_fullres\"]].values\n",
    "\n",
    "        # Assign spatial metadata from the original source\n",
    "        if sample_id in spatial_meta:\n",
    "            adata.uns[\"spatial\"][sample_id] = spatial_meta[sample_id]\n",
    "        else:\n",
    "            print(f\"❌ No spatial metadata found for {sample_id}\")\n",
    "\n",
    "    print(\"✅ Spatial metadata harmonized per sample.\")\n",
    "    return adata"
   ]
  },
  {
   "cell_type": "code",
   "execution_count": null,
   "id": "2648c844-0c4d-4f19-9132-8f7bcf148367",
   "metadata": {},
   "outputs": [],
   "source": [
    "adata = harmonize_spatial_metadata(adata)"
   ]
  },
  {
   "cell_type": "code",
   "execution_count": 78,
   "id": "0c9c052f-95de-4971-ac02-f22fb6e21152",
   "metadata": {},
   "outputs": [],
   "source": [
    "adata"
   ]
  },
  {
   "cell_type": "code",
   "execution_count": 76,
   "id": "372970b3-74f5-4de3-84e3-8930c03bd629",
   "metadata": {},
   "outputs": [
    {
     "ename": "AttributeError",
     "evalue": "'NoneType' object has no attribute 'obs'",
     "output_type": "error",
     "traceback": [
      "\u001b[0;31m---------------------------------------------------------------------------\u001b[0m",
      "\u001b[0;31mAttributeError\u001b[0m                            Traceback (most recent call last)",
      "Cell \u001b[0;32mIn[76], line 1\u001b[0m\n\u001b[0;32m----> 1\u001b[0m \u001b[38;5;28;01mfor\u001b[39;00m run \u001b[38;5;129;01min\u001b[39;00m \u001b[43madata\u001b[49m\u001b[38;5;241;43m.\u001b[39;49m\u001b[43mobs\u001b[49m[\u001b[38;5;124m'\u001b[39m\u001b[38;5;124msample_id\u001b[39m\u001b[38;5;124m'\u001b[39m]\u001b[38;5;241m.\u001b[39munique():\n\u001b[1;32m      2\u001b[0m     \u001b[38;5;28mprint\u001b[39m(run)\n\u001b[1;32m      3\u001b[0m     ad_int \u001b[38;5;241m=\u001b[39m adata[adata\u001b[38;5;241m.\u001b[39mobs[\u001b[38;5;124m'\u001b[39m\u001b[38;5;124msample_id\u001b[39m\u001b[38;5;124m'\u001b[39m] \u001b[38;5;241m==\u001b[39m run]\n",
      "\u001b[0;31mAttributeError\u001b[0m: 'NoneType' object has no attribute 'obs'"
     ]
    }
   ],
   "source": [
    "for run in adata.obs['sample_id'].unique():\n",
    "    print(run)\n",
    "    ad_int = adata[adata.obs['sample_id'] == run]\n",
    "    with plt.rc_context({'figure.figsize': (20, 10)}):\n",
    "        sc.pl.spatial(ad_int, spot_size=15, color = 'sample_id')\n",
    "    plt.show()\n",
    "    "
   ]
  },
  {
   "cell_type": "code",
   "execution_count": null,
   "id": "c42c7ac3-1951-493c-ac18-6851199abb40",
   "metadata": {},
   "outputs": [],
   "source": []
  }
 ],
 "metadata": {
  "kernelspec": {
   "display_name": "sc",
   "language": "python",
   "name": "sc"
  },
  "language_info": {
   "codemirror_mode": {
    "name": "ipython",
    "version": 3
   },
   "file_extension": ".py",
   "mimetype": "text/x-python",
   "name": "python",
   "nbconvert_exporter": "python",
   "pygments_lexer": "ipython3",
   "version": "3.8.20"
  }
 },
 "nbformat": 4,
 "nbformat_minor": 5
}
